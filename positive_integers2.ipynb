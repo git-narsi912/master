{
 "cells": [
  {
   "cell_type": "code",
   "execution_count": 174,
   "metadata": {},
   "outputs": [],
   "source": [
    "import pandas\n",
    "from pandas.plotting import scatter_matrix\n",
    "import matplotlib.pyplot as plt\n",
    "from sklearn import model_selection\n",
    "from sklearn.metrics import classification_report\n",
    "from sklearn.metrics import confusion_matrix\n",
    "from sklearn.metrics import accuracy_score\n",
    "from sklearn.linear_model import LogisticRegression\n",
    "from sklearn.tree import DecisionTreeClassifier\n",
    "from sklearn.neighbors import KNeighborsClassifier\n",
    "from sklearn.discriminant_analysis import LinearDiscriminantAnalysis\n",
    "from sklearn.naive_bayes import GaussianNB\n",
    "from sklearn.svm import SVC\n",
    "import numpy as np\n",
    "import datetime\n",
    "import csv"
   ]
  },
  {
   "cell_type": "code",
   "execution_count": 175,
   "metadata": {},
   "outputs": [],
   "source": [
    "url=\"FnB_hackathon_Pi.csv\" "
   ]
  },
  {
   "cell_type": "code",
   "execution_count": null,
   "metadata": {},
   "outputs": [],
   "source": []
  },
  {
   "cell_type": "code",
   "execution_count": 176,
   "metadata": {},
   "outputs": [],
   "source": [
    "dataset = pandas.read_csv(url)"
   ]
  },
  {
   "cell_type": "code",
   "execution_count": 177,
   "metadata": {},
   "outputs": [
    {
     "name": "stdout",
     "output_type": "stream",
     "text": [
      "    YEAR MONTH        Company           Area 1            Area 2  \\\n",
      "0   2018   JAN  white walkers  the westerlands      golden tooth   \n",
      "1   2018   FEB  white walkers   the riverlands     mummer's ford   \n",
      "2   2018   JUN            men        the north          riverrun   \n",
      "3   2018   FEB  white walkers   the stormlands        green fork   \n",
      "4   2018   JAN  white walkers   the crownlands   whispering wood   \n",
      "5   2018   JUN  white walkers   the stormlands        green fork   \n",
      "6   2018   MAR  white walkers   the riverlands             darry   \n",
      "7   2018   JUN            men        the north       moat cailin   \n",
      "8   2018   JAN  white walkers  beyond the wall    deepwood motte   \n",
      "9   2018   FEB  white walkers   the crownlands       stony shore   \n",
      "10  2018   MAR            men  beyond the wall    deepwood motte   \n",
      "11  2018   APR  white walkers        the north          riverrun   \n",
      "12  2018   MAR  white walkers  beyond the wall    deepwood motte   \n",
      "13  2018   JAN            men  beyond the wall    deepwood motte   \n",
      "14  2018   FEB            men        the north          riverrun   \n",
      "15  2018   MAR            men  the westerlands  torrhen's square   \n",
      "16  2018   APR  white walkers   the crownlands       stony shore   \n",
      "17  2018   JAN  white walkers   the crownlands       stony shore   \n",
      "18  2018   MAR  white walkers   the crownlands       stony shore   \n",
      "19  2018   JAN            men   the crownlands        winterfell   \n",
      "20  2018   MAR  white walkers   the crownlands   whispering wood   \n",
      "21  2018   MAR  white walkers   the stormlands        green fork   \n",
      "22  2018   JUN            men  the westerlands      golden tooth   \n",
      "23  2018   MAY  white walkers  beyond the wall    deepwood motte   \n",
      "24  2018   JAN  white walkers  the westerlands      golden tooth   \n",
      "25  2018   MAR  white walkers   the stormlands           oxcross   \n",
      "26  2018   JUN            men   the riverlands             darry   \n",
      "27  2018   JAN  white walkers        the north       moat cailin   \n",
      "28  2018   MAY  white walkers  the westerlands  torrhen's square   \n",
      "29  2018   MAR  white walkers   the stormlands        green fork   \n",
      "30  2018   MAR  white walkers   the crownlands   whispering wood   \n",
      "31  2018   MAR  white walkers        the north       storm's end   \n",
      "32  2018   JUN            men   the stormlands        green fork   \n",
      "33  2018   MAY  white walkers   the stormlands           oxcross   \n",
      "34  2018   FEB  white walkers   the stormlands        green fork   \n",
      "35  2018   MAR            men   the stormlands           oxcross   \n",
      "36  2018   JAN            men   the riverlands             darry   \n",
      "37  2018   MAY  white walkers  beyond the wall    deepwood motte   \n",
      "38  2018   FEB            men  beyond the wall    deepwood motte   \n",
      "39  2018   JUN            men  the westerlands          red fork   \n",
      "40  2018   JUN            men        the north       moat cailin   \n",
      "41  2018   JAN            men   the crownlands       stony shore   \n",
      "42  2018   MAY  white walkers   the stormlands        green fork   \n",
      "43  2018   JAN  white walkers  the westerlands          red fork   \n",
      "44  2018   FEB            men  beyond the wall    deepwood motte   \n",
      "45  2018   FEB  white walkers  beyond the wall    deepwood motte   \n",
      "46  2018   APR            men  the westerlands          red fork   \n",
      "47  2018   APR  white walkers   the stormlands        green fork   \n",
      "48  2018   FEB            men  the westerlands          red fork   \n",
      "49  2018   MAR  white walkers  beyond the wall    deepwood motte   \n",
      "50  2018   MAY  white walkers   the crownlands   whispering wood   \n",
      "51  2018   JUN            men  beyond the wall    deepwood motte   \n",
      "52  2018   APR  white walkers        the north       moat cailin   \n",
      "53  2018   JAN  white walkers   the crownlands       stony shore   \n",
      "54  2018   APR  white walkers  beyond the wall    deepwood motte   \n",
      "55  2018   MAY  white walkers   the riverlands             darry   \n",
      "56  2018   JAN            men   the stormlands         harrenhal   \n",
      "57  2018   JUN  white walkers        the north       moat cailin   \n",
      "58  2018   MAY  white walkers  the westerlands      golden tooth   \n",
      "59  2018   APR            men  beyond the wall    deepwood motte   \n",
      "\n",
      "                 Area 3 Area 3 Classification                  Outlet Type  \\\n",
      "0              rivermen  lord of the crossing                   house frey   \n",
      "1               dornish                   ser                  house swyft   \n",
      "2              valyrian                   ser                  house arryn   \n",
      "3              ironborn  lord of the crossing               house santagar   \n",
      "4             free folk                   ser              house targaryen   \n",
      "5              ironborn  lord of the crossing               house santagar   \n",
      "6              northmen                 queen                 house osgrey   \n",
      "7          summer isles            greenstone                night's watch   \n",
      "8              braavosi      hand of the king                 house humble   \n",
      "9              dothraki      hand of the king                  house wylde   \n",
      "10             ghiscari                   ser                   house wode   \n",
      "11  vale mountain clans           archmaester                  house arryn   \n",
      "12                reach               maester                 house humble   \n",
      "13              tyroshi            greenstone                 house humble   \n",
      "14            lhazarene      hand of the king                  house arryn   \n",
      "15              ironmen  lord of the crossing                   house fell   \n",
      "16             qartheen               maester                  house wylde   \n",
      "17               lysene      hand of the king                  house wylde   \n",
      "18             qartheen               maester                  house wylde   \n",
      "19            westermen                   ser  brotherhood without banners   \n",
      "20            free folk                   ser              house targaryen   \n",
      "21             ironborn  lord of the crossing               house santagar   \n",
      "22             rivermen  lord of the crossing                   house frey   \n",
      "23             ghiscari                   ser                   house wode   \n",
      "24             rivermen  lord of the crossing                   house frey   \n",
      "25            westerman  lord of the crossing                 house webber   \n",
      "26                qarth                   ser                 house osgrey   \n",
      "27               lyseni                   ser                night's watch   \n",
      "28                qohor      hand of the king                house greyjoy   \n",
      "29             ironborn  lord of the crossing               house santagar   \n",
      "30            free folk                   ser              house targaryen   \n",
      "31             westeros               maester                  house stark   \n",
      "32             norvoshi           archmaester               house santagar   \n",
      "33            westerman  lord of the crossing                 house webber   \n",
      "34             ironborn  lord of the crossing               house santagar   \n",
      "35            first men                   ser                 house webber   \n",
      "36             northmen                 queen               house waynwood   \n",
      "37             braavosi      hand of the king                 house humble   \n",
      "38             ghiscari                   ser                   house wode   \n",
      "39           meereenese  lord of the crossing                   house fell   \n",
      "40               lyseni                   ser                night's watch   \n",
      "41             dothraki      hand of the king                  house wylde   \n",
      "42             ironborn  lord of the crossing               house santagar   \n",
      "43           meereenese  lord of the crossing                   house fell   \n",
      "44                andal                  khal                  house dayne   \n",
      "45             astapori           archmaester                   house wode   \n",
      "46           meereenese  lord of the crossing                   house fell   \n",
      "47             ironborn  lord of the crossing               house santagar   \n",
      "48           meereenese  lord of the crossing                   house fell   \n",
      "49                reach               maester                 house humble   \n",
      "50            free folk                   ser              house targaryen   \n",
      "51             ghiscari                   ser                   house wode   \n",
      "52         ghiscaricari                   ser                night's watch   \n",
      "53             dothraki      hand of the king                  house wylde   \n",
      "54              braavos            greenstone                  house dayne   \n",
      "55           stormlands      hand of the king               house waynwood   \n",
      "56              valemen  lord of the crossing               house manderly   \n",
      "57               lyseni                   ser                night's watch   \n",
      "58             rivermen  lord of the crossing                   house frey   \n",
      "59               myrish                   ser                   house wode   \n",
      "\n",
      "             Outlet Name Product Category 1         Product Category 2  \\\n",
      "0   viserys ii targaryen             korean                     bagels   \n",
      "1            walder frey              greek  chicken bouillon granules   \n",
      "2           addison hill             korean                  dry yeast   \n",
      "3            aemma arryn            mexican  chicken bouillon granules   \n",
      "4         sylva santagar             indian                 field peas   \n",
      "5       tommen baratheon              greek  chicken bouillon granules   \n",
      "6   viserys ii targaryen              greek  chicken bouillon granules   \n",
      "7       valarr targaryen              greek                   amaretti   \n",
      "8    viserys i targaryen             korean                     bagels   \n",
      "9   viserys ii targaryen              greek        frozen strawberries   \n",
      "10               wilbert             indian                fino sherry   \n",
      "11        wilbert osgrey              greek        frozen strawberries   \n",
      "12                  will              greek  chicken bouillon granules   \n",
      "13         will (orphan)            mexican                      maggi   \n",
      "14         will (squire)             indian                fino sherry   \n",
      "15      will (standfast)              greek                   amaretti   \n",
      "16  viserys ii targaryen              greek        frozen strawberries   \n",
      "17  viserys ii targaryen            mexican              alfredo sauce   \n",
      "18  viserys ii targaryen              greek        whole grain mustard   \n",
      "19           will (treb)            mexican                      maggi   \n",
      "20           will humble            mexican                corned beef   \n",
      "21                willam            mexican                       jack   \n",
      "22          willem wylde             indian                fino sherry   \n",
      "23  viserys ii targaryen             indian                 field peas   \n",
      "24              willifer             korean         hatch green chiles   \n",
      "25                willit             korean                      morel   \n",
      "26  viserys ii targaryen            mexican                      maggi   \n",
      "27           willis wode             korean                      morel   \n",
      "28           willis fell              greek  chicken bouillon granules   \n",
      "29         willow heddle              greek  chicken bouillon granules   \n",
      "30      tommen baratheon            mexican                       jack   \n",
      "31                willum              greek        whole grain mustard   \n",
      "32  viserys ii targaryen            mexican                      maggi   \n",
      "33  viserys ii targaryen              greek  chicken bouillon granules   \n",
      "34                wolmer              greek  chicken bouillon granules   \n",
      "35      willow witch-eye             indian                fino sherry   \n",
      "36  viserys ii targaryen             korean    red bell pepper, sliced   \n",
      "37         will (orphan)            mexican                       jack   \n",
      "38  viserys ii targaryen             indian                fino sherry   \n",
      "39  viserys ii targaryen              greek                   amaretti   \n",
      "40                  woth              greek                   amaretti   \n",
      "41  viserys ii targaryen             indian                fino sherry   \n",
      "42                 wulfe            mexican                   snappers   \n",
      "43      wyl the whittler            mexican  1% low-fat cottage cheese   \n",
      "44           wyl (guard)            mexican                      maggi   \n",
      "45  viserys ii targaryen             korean                      morel   \n",
      "46          wyl waynwood             indian                fino sherry   \n",
      "47         willow heddle            mexican                   snappers   \n",
      "48   wun weg wun dar wun            mexican                      maggi   \n",
      "49                  will             indian                 field peas   \n",
      "50  viserys ii targaryen             korean                     bagels   \n",
      "51                 wylla              greek                   amaretti   \n",
      "52  viserys ii targaryen             indian                 field peas   \n",
      "53  viserys ii targaryen              greek  chicken bouillon granules   \n",
      "54     wynafryd manderly            mexican  1% low-fat cottage cheese   \n",
      "55                xhondo              greek        frozen strawberries   \n",
      "56          ygon farwynd             indian                fino sherry   \n",
      "57  viserys ii targaryen            mexican  1% low-fat cottage cheese   \n",
      "58  viserys ii targaryen             indian                 field peas   \n",
      "59                   yna            mexican                      maggi   \n",
      "\n",
      "                            Product  Units_sold       Revenue    Commission  \n",
      "0                     white cabbage    2.495851  4.971735e+04      0.000000  \n",
      "1                               rye   45.198292  2.494946e+05      0.000000  \n",
      "2                            wheels    2.475006  5.435113e+04   4393.135151  \n",
      "3                   cola soft drink    4.980233  3.346717e+04      0.000000  \n",
      "4                   mexican oregano    2.482338  2.725607e+04      0.000000  \n",
      "5                    cottage cheese   14.877702  7.855426e+04      0.000000  \n",
      "6                      tahini paste  161.428672  8.523434e+05      0.000000  \n",
      "7                      green olives   72.276063  4.163101e+05   4400.336780  \n",
      "8                     white cabbage    2.494838  4.969718e+04      0.000000  \n",
      "9                      salad leaves    5.003882  2.762143e+04      0.000000  \n",
      "10                         scallops   12.479799  1.497576e+05   3804.172317  \n",
      "11                      garden peas    2.509261  1.445334e+04      0.000000  \n",
      "12                  maldon sea salt   94.438459  4.844693e+05      0.000000  \n",
      "13                       bacon rind   50.378117  3.627224e+05  15113.427470  \n",
      "14                      runny honey    4.952739  5.943287e+04      0.000000  \n",
      "15                     green olives   50.118290  2.886814e+05   9656.607500  \n",
      "16                     salad leaves    9.983461  5.510870e+04      0.000000  \n",
      "17                  frozen broccoli    2.502934  1.922254e+04      0.000000  \n",
      "18               fresh curry leaves    2.482019  1.370075e+04      0.000000  \n",
      "19                       bacon rind   24.849051  1.789132e+05   6201.393841  \n",
      "20                        dill weed   12.575186  0.000000e+00      0.000000  \n",
      "21            stone-ground cornmeal    5.046826  0.000000e+00      0.000000  \n",
      "22            nonfat ricotta cheese   32.378726  3.885447e+05  29373.724180  \n",
      "23                      orange peel    2.509616  2.951309e+04      0.000000  \n",
      "24                            beets    2.518819  5.138392e+04      0.000000  \n",
      "25              pork baby back ribs   12.598652  2.479415e+05      0.000000  \n",
      "26                       spiced rum    4.958504  3.014771e+04      0.000000  \n",
      "27              pork baby back ribs    4.953905  9.749286e+04      0.000000  \n",
      "28                   cottage cheese   57.120305  3.015952e+05      0.000000  \n",
      "29                   cottage cheese   45.340328  2.393969e+05      0.000000  \n",
      "30                   jerk seasoning    2.479917  0.000000e+00      0.000000  \n",
      "31                        bbq sauce    2.496055  1.377823e+04      0.000000  \n",
      "32                mexican chocolate    2.522894  1.748366e+04      0.000000  \n",
      "33                   cottage cheese    2.501658  1.320876e+04      0.000000  \n",
      "34                           shells   25.095939  1.445526e+05      0.000000  \n",
      "35            nonfat ricotta cheese    7.472327  8.966793e+04   1508.291474  \n",
      "36               reduced-fat cheese   10.037300  1.927162e+05      0.000000  \n",
      "37                   jerk seasoning    2.516731  0.000000e+00      0.000000  \n",
      "38                 cornflake cereal    4.951829  5.615374e+04   1175.748302  \n",
      "39  frozen orange juice concentrate   87.937753  4.854164e+05   8564.419349  \n",
      "40                         cherries    5.048886  2.786985e+04    292.137028  \n",
      "41            nonfat ricotta cheese   10.049633  1.205956e+05   2009.926626  \n",
      "42                    achiote paste    2.489022  1.821964e+04      0.000000  \n",
      "43                          tilapia   12.572320  1.267290e+05      0.000000  \n",
      "44                  poblano chilies   24.801613  1.785716e+05   1987.480831  \n",
      "45              pork baby back ribs    2.497395  4.914873e+04      0.000000  \n",
      "46                    vanilla sugar   37.806447  5.444128e+05  18903.223310  \n",
      "47                    achiote paste    2.489681  1.822446e+04      0.000000  \n",
      "48                     garlic juice    2.489389  1.911851e+04    490.528472  \n",
      "49                           turkey    2.481501  2.977802e+04      0.000000  \n",
      "50                 fresh lima beans    2.475968  4.991552e+04      0.000000  \n",
      "51                         cherries   20.071534  1.107949e+05   1171.516810  \n",
      "52                           turkey    9.942326  1.193079e+05      0.000000  \n",
      "53                     tahini paste  291.024936  1.536612e+06      0.000000  \n",
      "54                  cilantro sprigs    2.499579  2.137140e+04      0.000000  \n",
      "55                     salad leaves    2.477668  1.367673e+04      0.000000  \n",
      "56                    vanilla sugar    7.511118  1.081601e+05   7511.117641  \n",
      "57            crusty sandwich rolls   29.788037  2.716669e+05      0.000000  \n",
      "58                  tilapia fillets    2.504465  2.945251e+04      0.000000  \n",
      "59                  poblano chilies   30.119855  2.168630e+05   4493.523702  \n"
     ]
    }
   ],
   "source": [
    "print(dataset.head(60))"
   ]
  },
  {
   "cell_type": "markdown",
   "metadata": {},
   "source": []
  },
  {
   "cell_type": "code",
   "execution_count": 178,
   "metadata": {},
   "outputs": [
    {
     "data": {
      "image/png": "[encoded data removed]",
      "text/plain": [
       "<Figure size 432x288 with 1 Axes>"
      ]
     },
     "metadata": {
      "needs_background": "light"
     },
     "output_type": "display_data"
    }
   ],
   "source": [
    "plt.plot(dataset[\"Units_sold\"], dataset[\"Commission\"], 'ro--')\n",
    "plt.show()"
   ]
  },
  {
   "cell_type": "code",
   "execution_count": 179,
   "metadata": {},
   "outputs": [
    {
     "name": "stdout",
     "output_type": "stream",
     "text": [
      "YEAR\n",
      "MONTH\n",
      "Company\n",
      "Area 1\n",
      "Area 2\n",
      "Area 3\n",
      "Area 3 Classification\n",
      "Outlet Type\n",
      "Outlet Name\n",
      "Product Category 1\n",
      "Product Category 2\n",
      "Product\n",
      "Units_sold\n",
      "Revenue\n",
      "Commission\n"
     ]
    }
   ],
   "source": [
    "for columns in dataset:\n",
    "    print(columns)"
   ]
  },
  {
   "cell_type": "code",
   "execution_count": 180,
   "metadata": {},
   "outputs": [],
   "source": [
    "a = dataset['Units_sold']"
   ]
  },
  {
   "cell_type": "code",
   "execution_count": 181,
   "metadata": {},
   "outputs": [],
   "source": [
    "b= dataset['Commission']"
   ]
  },
  {
   "cell_type": "code",
   "execution_count": 182,
   "metadata": {},
   "outputs": [],
   "source": [
    "import seaborn as sns"
   ]
  },
  {
   "cell_type": "code",
   "execution_count": 188,
   "metadata": {},
   "outputs": [
    {
     "data": {
      "text/plain": [
       "<matplotlib.axes._subplots.AxesSubplot at 0x134a32c6cf8>"
      ]
     },
     "execution_count": 188,
     "metadata": {},
     "output_type": "execute_result"
    },
    {
     "data": {
      "image/png": "[encoded data removed]",
      "text/plain": [
       "<Figure size 432x288 with 1 Axes>"
      ]
     },
     "metadata": {
      "needs_background": "light"
     },
     "output_type": "display_data"
    }
   ],
   "source": [
    "sns.scatterplot(a,b)"
   ]
  },
  {
   "cell_type": "code",
   "execution_count": 184,
   "metadata": {},
   "outputs": [],
   "source": [
    "ls=[a]\n",
    "lst=[b]"
   ]
  },
  {
   "cell_type": "code",
   "execution_count": 185,
   "metadata": {},
   "outputs": [
    {
     "name": "stdout",
     "output_type": "stream",
     "text": [
      "[0            2.495851\n",
      "1           45.198292\n",
      "2            2.475006\n",
      "3            4.980233\n",
      "4            2.482338\n",
      "5           14.877702\n",
      "6          161.428672\n",
      "7           72.276063\n",
      "8            2.494838\n",
      "9            5.003882\n",
      "10          12.479799\n",
      "11           2.509261\n",
      "12          94.438459\n",
      "13          50.378117\n",
      "14           4.952739\n",
      "15          50.118290\n",
      "16           9.983461\n",
      "17           2.502934\n",
      "18           2.482019\n",
      "19          24.849051\n",
      "20          12.575186\n",
      "21           5.046826\n",
      "22          32.378726\n",
      "23           2.509616\n",
      "24           2.518819\n",
      "25          12.598652\n",
      "26           4.958504\n",
      "27           4.953905\n",
      "28          57.120305\n",
      "29          45.340328\n",
      "              ...    \n",
      "1048545      2.477825\n",
      "1048546      2.508917\n",
      "1048547      2.492162\n",
      "1048548      2.510539\n",
      "1048549      5.007004\n",
      "1048550      2.518063\n",
      "1048551      2.496030\n",
      "1048552    168.243799\n",
      "1048553      2.507013\n",
      "1048554      2.523806\n",
      "1048555      4.984959\n",
      "1048556      2.511199\n",
      "1048557     42.129698\n",
      "1048558      2.483322\n",
      "1048559      2.504435\n",
      "1048560    130.384730\n",
      "1048561      2.518029\n",
      "1048562      2.509425\n",
      "1048563      2.477275\n",
      "1048564      2.496441\n",
      "1048565      2.495209\n",
      "1048566      2.523786\n",
      "1048567      2.513830\n",
      "1048568      4.973987\n",
      "1048569      5.005746\n",
      "1048570      2.523567\n",
      "1048571      2.487985\n",
      "1048572      2.475806\n",
      "1048573     14.909425\n",
      "1048574     19.974974\n",
      "Name: Units_sold, Length: 1048575, dtype: float64]\n",
      "[0               0.000000\n",
      "1               0.000000\n",
      "2            4393.135151\n",
      "3               0.000000\n",
      "4               0.000000\n",
      "5               0.000000\n",
      "6               0.000000\n",
      "7            4400.336780\n",
      "8               0.000000\n",
      "9               0.000000\n",
      "10           3804.172317\n",
      "11              0.000000\n",
      "12              0.000000\n",
      "13          15113.427470\n",
      "14              0.000000\n",
      "15           9656.607500\n",
      "16              0.000000\n",
      "17              0.000000\n",
      "18              0.000000\n",
      "19           6201.393841\n",
      "20              0.000000\n",
      "21              0.000000\n",
      "22          29373.724180\n",
      "23              0.000000\n",
      "24              0.000000\n",
      "25              0.000000\n",
      "26              0.000000\n",
      "27              0.000000\n",
      "28              0.000000\n",
      "29              0.000000\n",
      "               ...      \n",
      "1048545         0.000000\n",
      "1048546         0.000000\n",
      "1048547         0.000000\n",
      "1048548         0.000000\n",
      "1048549         0.000000\n",
      "1048550         0.000000\n",
      "1048551         0.000000\n",
      "1048552         0.000000\n",
      "1048553         0.000000\n",
      "1048554         0.000000\n",
      "1048555         0.000000\n",
      "1048556         0.000000\n",
      "1048557    177450.287700\n",
      "1048558         0.000000\n",
      "1048559         0.000000\n",
      "1048560         0.000000\n",
      "1048561         0.000000\n",
      "1048562      5018.849940\n",
      "1048563         0.000000\n",
      "1048564         0.000000\n",
      "1048565         0.000000\n",
      "1048566         0.000000\n",
      "1048567         0.000000\n",
      "1048568         0.000000\n",
      "1048569         0.000000\n",
      "1048570         0.000000\n",
      "1048571         0.000000\n",
      "1048572         0.000000\n",
      "1048573         0.000000\n",
      "1048574         0.000000\n",
      "Name: Commission, Length: 1048575, dtype: float64]\n"
     ]
    }
   ],
   "source": [
    "print(ls)\n",
    "print(lst)"
   ]
  },
  {
   "cell_type": "code",
   "execution_count": null,
   "metadata": {},
   "outputs": [],
   "source": [
    "x=np.array(ls)\n",
    "y=np.array(lst)"
   ]
  },
  {
   "cell_type": "code",
   "execution_count": null,
   "metadata": {},
   "outputs": [],
   "source": []
  },
  {
   "cell_type": "code",
   "execution_count": null,
   "metadata": {},
   "outputs": [],
   "source": []
  },
  {
   "cell_type": "code",
   "execution_count": 190,
   "metadata": {},
   "outputs": [
    {
     "data": {
      "image/png": "[encoded data removed]",
      "text/plain": [
       "<Figure size 432x288 with 1 Axes>"
      ]
     },
     "metadata": {
      "needs_background": "light"
     },
     "output_type": "display_data"
    }
   ],
   "source": [
    "plt.scatter(dataset['Units_sold'],dataset['Commission'])\n",
    "plt.plot(dataset['Units_sold'],dataset['Commission'])\n",
    "plt.show()"
   ]
  },
  {
   "cell_type": "code",
   "execution_count": null,
   "metadata": {},
   "outputs": [],
   "source": []
  },
  {
   "cell_type": "code",
   "execution_count": null,
   "metadata": {},
   "outputs": [],
   "source": []
  },
  {
   "cell_type": "code",
   "execution_count": null,
   "metadata": {},
   "outputs": [],
   "source": []
  },
  {
   "cell_type": "code",
   "execution_count": null,
   "metadata": {},
   "outputs": [],
   "source": []
  },
  {
   "cell_type": "code",
   "execution_count": null,
   "metadata": {},
   "outputs": [],
   "source": []
  },
  {
   "cell_type": "code",
   "execution_count": null,
   "metadata": {},
   "outputs": [],
   "source": []
  }
 ],
 "metadata": {
  "kernelspec": {
   "display_name": "Python 3",
   "language": "python",
   "name": "python3"
  },
  "language_info": {
   "codemirror_mode": {
    "name": "ipython",
    "version": 3
   },
   "file_extension": ".py",
   "mimetype": "text/x-python",
   "name": "python",
   "nbconvert_exporter": "python",
   "pygments_lexer": "ipython3",
   "version": "3.7.1"
  }
 },
 "nbformat": 4,
 "nbformat_minor": 2
}
