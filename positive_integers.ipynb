{
 "cells": [
  {
   "cell_type": "code",
   "execution_count": 2,
   "metadata": {},
   "outputs": [],
   "source": [
    "import numpy as np\n",
    "import pandas as pd\n",
    "import matplotlib.pyplot as plt\n",
    "import seaborn as sns\n",
    "%matplotlib inline"
   ]
  },
  {
   "cell_type": "code",
   "execution_count": 3,
   "metadata": {},
   "outputs": [],
   "source": [
    "df = pd.read_csv('FnB_hackathon_Pi.csv')"
   ]
  },
  {
   "cell_type": "code",
   "execution_count": 34,
   "metadata": {},
   "outputs": [
    {
     "data": {
      "text/html": [
       "<div>\n",
       "<style scoped>\n",
       "    .dataframe tbody tr th:only-of-type {\n",
       "        vertical-align: middle;\n",
       "    }\n",
       "\n",
       "    .dataframe tbody tr th {\n",
       "        vertical-align: top;\n",
       "    }\n",
       "\n",
       "    .dataframe thead th {\n",
       "        text-align: right;\n",
       "    }\n",
       "</style>\n",
       "<table border=\"1\" class=\"dataframe\">\n",
       "  <thead>\n",
       "    <tr style=\"text-align: right;\">\n",
       "      <th></th>\n",
       "      <th>YEAR</th>\n",
       "      <th>MONTH</th>\n",
       "      <th>Company</th>\n",
       "      <th>Area 1</th>\n",
       "      <th>Area 2</th>\n",
       "      <th>Area 3</th>\n",
       "      <th>Area 3 Classification</th>\n",
       "      <th>Outlet Type</th>\n",
       "      <th>Outlet Name</th>\n",
       "      <th>Product Category 1</th>\n",
       "      <th>Product Category 2</th>\n",
       "      <th>Product</th>\n",
       "      <th>Units_sold</th>\n",
       "      <th>Revenue</th>\n",
       "      <th>Commission</th>\n",
       "      <th>Profit_percentage</th>\n",
       "    </tr>\n",
       "  </thead>\n",
       "  <tbody>\n",
       "    <tr>\n",
       "      <th>0</th>\n",
       "      <td>2018</td>\n",
       "      <td>4</td>\n",
       "      <td>white walkers</td>\n",
       "      <td>beyond the wall</td>\n",
       "      <td>deepwood motte</td>\n",
       "      <td>lhazareen</td>\n",
       "      <td>ser</td>\n",
       "      <td>house humble</td>\n",
       "      <td>viserys ii targaryen</td>\n",
       "      <td>mexican</td>\n",
       "      <td>jack</td>\n",
       "      <td>jerk seasoning</td>\n",
       "      <td>2.504949</td>\n",
       "      <td>0.0</td>\n",
       "      <td>0.0</td>\n",
       "      <td>0</td>\n",
       "    </tr>\n",
       "    <tr>\n",
       "      <th>1</th>\n",
       "      <td>2018</td>\n",
       "      <td>6</td>\n",
       "      <td>white walkers</td>\n",
       "      <td>the stormlands</td>\n",
       "      <td>oxcross</td>\n",
       "      <td>westerman</td>\n",
       "      <td>lord of the crossing</td>\n",
       "      <td>house webber</td>\n",
       "      <td>viserys ii targaryen</td>\n",
       "      <td>mexican</td>\n",
       "      <td>jack</td>\n",
       "      <td>stone-ground cornmeal</td>\n",
       "      <td>2.521447</td>\n",
       "      <td>0.0</td>\n",
       "      <td>0.0</td>\n",
       "      <td>0</td>\n",
       "    </tr>\n",
       "    <tr>\n",
       "      <th>2</th>\n",
       "      <td>2018</td>\n",
       "      <td>6</td>\n",
       "      <td>white walkers</td>\n",
       "      <td>the north</td>\n",
       "      <td>moat cailin</td>\n",
       "      <td>lyseni</td>\n",
       "      <td>ser</td>\n",
       "      <td>night's watch</td>\n",
       "      <td>viserys ii targaryen</td>\n",
       "      <td>mexican</td>\n",
       "      <td>jack</td>\n",
       "      <td>prosecco</td>\n",
       "      <td>17.529592</td>\n",
       "      <td>0.0</td>\n",
       "      <td>0.0</td>\n",
       "      <td>0</td>\n",
       "    </tr>\n",
       "    <tr>\n",
       "      <th>3</th>\n",
       "      <td>2018</td>\n",
       "      <td>3</td>\n",
       "      <td>white walkers</td>\n",
       "      <td>the north</td>\n",
       "      <td>moat cailin</td>\n",
       "      <td>summer isles</td>\n",
       "      <td>greenstone</td>\n",
       "      <td>night's watch</td>\n",
       "      <td>yohn farwynd</td>\n",
       "      <td>mexican</td>\n",
       "      <td>jack</td>\n",
       "      <td>jerk seasoning</td>\n",
       "      <td>4.992767</td>\n",
       "      <td>0.0</td>\n",
       "      <td>0.0</td>\n",
       "      <td>0</td>\n",
       "    </tr>\n",
       "    <tr>\n",
       "      <th>4</th>\n",
       "      <td>2018</td>\n",
       "      <td>3</td>\n",
       "      <td>white walkers</td>\n",
       "      <td>the riverlands</td>\n",
       "      <td>darry</td>\n",
       "      <td>northmen</td>\n",
       "      <td>queen</td>\n",
       "      <td>house osgrey</td>\n",
       "      <td>viserys ii targaryen</td>\n",
       "      <td>mexican</td>\n",
       "      <td>jack</td>\n",
       "      <td>stone-ground cornmeal</td>\n",
       "      <td>7.494240</td>\n",
       "      <td>0.0</td>\n",
       "      <td>0.0</td>\n",
       "      <td>0</td>\n",
       "    </tr>\n",
       "  </tbody>\n",
       "</table>\n",
       "</div>"
      ],
      "text/plain": [
       "   YEAR  MONTH        Company           Area 1          Area 2        Area 3  \\\n",
       "0  2018      4  white walkers  beyond the wall  deepwood motte     lhazareen   \n",
       "1  2018      6  white walkers   the stormlands         oxcross     westerman   \n",
       "2  2018      6  white walkers        the north     moat cailin        lyseni   \n",
       "3  2018      3  white walkers        the north     moat cailin  summer isles   \n",
       "4  2018      3  white walkers   the riverlands           darry      northmen   \n",
       "\n",
       "  Area 3 Classification    Outlet Type           Outlet Name  \\\n",
       "0                   ser   house humble  viserys ii targaryen   \n",
       "1  lord of the crossing   house webber  viserys ii targaryen   \n",
       "2                   ser  night's watch  viserys ii targaryen   \n",
       "3            greenstone  night's watch          yohn farwynd   \n",
       "4                 queen   house osgrey  viserys ii targaryen   \n",
       "\n",
       "  Product Category 1 Product Category 2                Product  Units_sold  \\\n",
       "0            mexican               jack         jerk seasoning    2.504949   \n",
       "1            mexican               jack  stone-ground cornmeal    2.521447   \n",
       "2            mexican               jack               prosecco   17.529592   \n",
       "3            mexican               jack         jerk seasoning    4.992767   \n",
       "4            mexican               jack  stone-ground cornmeal    7.494240   \n",
       "\n",
       "   Revenue  Commission Profit_percentage  \n",
       "0      0.0         0.0                 0  \n",
       "1      0.0         0.0                 0  \n",
       "2      0.0         0.0                 0  \n",
       "3      0.0         0.0                 0  \n",
       "4      0.0         0.0                 0  "
      ]
     },
     "execution_count": 34,
     "metadata": {},
     "output_type": "execute_result"
    }
   ],
   "source": [
    "df.head()\n",
    "#modified the database in such a way that we calculated profit percentage so we can compare it with months.\n",
    "#profit percentage=(commission/revenue)*100"
   ]
  },
  {
   "cell_type": "code",
   "execution_count": 35,
   "metadata": {},
   "outputs": [],
   "source": [
    "X = df[['Revenue','Commission','Units_sold']]\n"
   ]
  },
  {
   "cell_type": "code",
   "execution_count": 36,
   "metadata": {},
   "outputs": [],
   "source": [
    "from sklearn.decomposition import PCA"
   ]
  },
  {
   "cell_type": "code",
   "execution_count": 37,
   "metadata": {},
   "outputs": [],
   "source": [
    "pca = PCA(n_components=1)"
   ]
  },
  {
   "cell_type": "code",
   "execution_count": 38,
   "metadata": {},
   "outputs": [
    {
     "data": {
      "text/plain": [
       "PCA(copy=True, iterated_power='auto', n_components=1, random_state=None,\n",
       "  svd_solver='auto', tol=0.0, whiten=False)"
      ]
     },
     "execution_count": 38,
     "metadata": {},
     "output_type": "execute_result"
    }
   ],
   "source": [
    "pca.fit(X)"
   ]
  },
  {
   "cell_type": "code",
   "execution_count": 39,
   "metadata": {},
   "outputs": [
    {
     "name": "stdout",
     "output_type": "stream",
     "text": [
      "[0.99860002]\n"
     ]
    }
   ],
   "source": [
    "print(pca.explained_variance_ratio_)"
   ]
  },
  {
   "cell_type": "code",
   "execution_count": 40,
   "metadata": {},
   "outputs": [],
   "source": [
    "y = pca.transform(X)"
   ]
  },
  {
   "cell_type": "code",
   "execution_count": 41,
   "metadata": {},
   "outputs": [
    {
     "data": {
      "text/plain": [
       "1048575"
      ]
     },
     "execution_count": 41,
     "metadata": {},
     "output_type": "execute_result"
    }
   ],
   "source": [
    "y.size"
   ]
  },
  {
   "cell_type": "code",
   "execution_count": 42,
   "metadata": {},
   "outputs": [
    {
     "data": {
      "text/plain": [
       "1048575"
      ]
     },
     "execution_count": 42,
     "metadata": {},
     "output_type": "execute_result"
    }
   ],
   "source": [
    "X['Revenue'].size"
   ]
  },
  {
   "cell_type": "code",
   "execution_count": 43,
   "metadata": {},
   "outputs": [],
   "source": [
    "df['PCA val'] = y"
   ]
  },
  {
   "cell_type": "code",
   "execution_count": 44,
   "metadata": {},
   "outputs": [
    {
     "data": {
      "text/html": [
       "<div>\n",
       "<style scoped>\n",
       "    .dataframe tbody tr th:only-of-type {\n",
       "        vertical-align: middle;\n",
       "    }\n",
       "\n",
       "    .dataframe tbody tr th {\n",
       "        vertical-align: top;\n",
       "    }\n",
       "\n",
       "    .dataframe thead th {\n",
       "        text-align: right;\n",
       "    }\n",
       "</style>\n",
       "<table border=\"1\" class=\"dataframe\">\n",
       "  <thead>\n",
       "    <tr style=\"text-align: right;\">\n",
       "      <th></th>\n",
       "      <th>YEAR</th>\n",
       "      <th>MONTH</th>\n",
       "      <th>Company</th>\n",
       "      <th>Area 1</th>\n",
       "      <th>Area 2</th>\n",
       "      <th>Area 3</th>\n",
       "      <th>Area 3 Classification</th>\n",
       "      <th>Outlet Type</th>\n",
       "      <th>Outlet Name</th>\n",
       "      <th>Product Category 1</th>\n",
       "      <th>Product Category 2</th>\n",
       "      <th>Product</th>\n",
       "      <th>Units_sold</th>\n",
       "      <th>Revenue</th>\n",
       "      <th>Commission</th>\n",
       "      <th>Profit_percentage</th>\n",
       "      <th>PCA val</th>\n",
       "    </tr>\n",
       "  </thead>\n",
       "  <tbody>\n",
       "    <tr>\n",
       "      <th>0</th>\n",
       "      <td>2018</td>\n",
       "      <td>4</td>\n",
       "      <td>white walkers</td>\n",
       "      <td>beyond the wall</td>\n",
       "      <td>deepwood motte</td>\n",
       "      <td>lhazareen</td>\n",
       "      <td>ser</td>\n",
       "      <td>house humble</td>\n",
       "      <td>viserys ii targaryen</td>\n",
       "      <td>mexican</td>\n",
       "      <td>jack</td>\n",
       "      <td>jerk seasoning</td>\n",
       "      <td>2.504949</td>\n",
       "      <td>0.0</td>\n",
       "      <td>0.0</td>\n",
       "      <td>0</td>\n",
       "      <td>-211140.147664</td>\n",
       "    </tr>\n",
       "    <tr>\n",
       "      <th>1</th>\n",
       "      <td>2018</td>\n",
       "      <td>6</td>\n",
       "      <td>white walkers</td>\n",
       "      <td>the stormlands</td>\n",
       "      <td>oxcross</td>\n",
       "      <td>westerman</td>\n",
       "      <td>lord of the crossing</td>\n",
       "      <td>house webber</td>\n",
       "      <td>viserys ii targaryen</td>\n",
       "      <td>mexican</td>\n",
       "      <td>jack</td>\n",
       "      <td>stone-ground cornmeal</td>\n",
       "      <td>2.521447</td>\n",
       "      <td>0.0</td>\n",
       "      <td>0.0</td>\n",
       "      <td>0</td>\n",
       "      <td>-211140.147661</td>\n",
       "    </tr>\n",
       "    <tr>\n",
       "      <th>2</th>\n",
       "      <td>2018</td>\n",
       "      <td>6</td>\n",
       "      <td>white walkers</td>\n",
       "      <td>the north</td>\n",
       "      <td>moat cailin</td>\n",
       "      <td>lyseni</td>\n",
       "      <td>ser</td>\n",
       "      <td>night's watch</td>\n",
       "      <td>viserys ii targaryen</td>\n",
       "      <td>mexican</td>\n",
       "      <td>jack</td>\n",
       "      <td>prosecco</td>\n",
       "      <td>17.529592</td>\n",
       "      <td>0.0</td>\n",
       "      <td>0.0</td>\n",
       "      <td>0</td>\n",
       "      <td>-211140.145142</td>\n",
       "    </tr>\n",
       "    <tr>\n",
       "      <th>3</th>\n",
       "      <td>2018</td>\n",
       "      <td>3</td>\n",
       "      <td>white walkers</td>\n",
       "      <td>the north</td>\n",
       "      <td>moat cailin</td>\n",
       "      <td>summer isles</td>\n",
       "      <td>greenstone</td>\n",
       "      <td>night's watch</td>\n",
       "      <td>yohn farwynd</td>\n",
       "      <td>mexican</td>\n",
       "      <td>jack</td>\n",
       "      <td>jerk seasoning</td>\n",
       "      <td>4.992767</td>\n",
       "      <td>0.0</td>\n",
       "      <td>0.0</td>\n",
       "      <td>0</td>\n",
       "      <td>-211140.147246</td>\n",
       "    </tr>\n",
       "    <tr>\n",
       "      <th>4</th>\n",
       "      <td>2018</td>\n",
       "      <td>3</td>\n",
       "      <td>white walkers</td>\n",
       "      <td>the riverlands</td>\n",
       "      <td>darry</td>\n",
       "      <td>northmen</td>\n",
       "      <td>queen</td>\n",
       "      <td>house osgrey</td>\n",
       "      <td>viserys ii targaryen</td>\n",
       "      <td>mexican</td>\n",
       "      <td>jack</td>\n",
       "      <td>stone-ground cornmeal</td>\n",
       "      <td>7.494240</td>\n",
       "      <td>0.0</td>\n",
       "      <td>0.0</td>\n",
       "      <td>0</td>\n",
       "      <td>-211140.146826</td>\n",
       "    </tr>\n",
       "  </tbody>\n",
       "</table>\n",
       "</div>"
      ],
      "text/plain": [
       "   YEAR  MONTH        Company           Area 1          Area 2        Area 3  \\\n",
       "0  2018      4  white walkers  beyond the wall  deepwood motte     lhazareen   \n",
       "1  2018      6  white walkers   the stormlands         oxcross     westerman   \n",
       "2  2018      6  white walkers        the north     moat cailin        lyseni   \n",
       "3  2018      3  white walkers        the north     moat cailin  summer isles   \n",
       "4  2018      3  white walkers   the riverlands           darry      northmen   \n",
       "\n",
       "  Area 3 Classification    Outlet Type           Outlet Name  \\\n",
       "0                   ser   house humble  viserys ii targaryen   \n",
       "1  lord of the crossing   house webber  viserys ii targaryen   \n",
       "2                   ser  night's watch  viserys ii targaryen   \n",
       "3            greenstone  night's watch          yohn farwynd   \n",
       "4                 queen   house osgrey  viserys ii targaryen   \n",
       "\n",
       "  Product Category 1 Product Category 2                Product  Units_sold  \\\n",
       "0            mexican               jack         jerk seasoning    2.504949   \n",
       "1            mexican               jack  stone-ground cornmeal    2.521447   \n",
       "2            mexican               jack               prosecco   17.529592   \n",
       "3            mexican               jack         jerk seasoning    4.992767   \n",
       "4            mexican               jack  stone-ground cornmeal    7.494240   \n",
       "\n",
       "   Revenue  Commission Profit_percentage        PCA val  \n",
       "0      0.0         0.0                 0 -211140.147664  \n",
       "1      0.0         0.0                 0 -211140.147661  \n",
       "2      0.0         0.0                 0 -211140.145142  \n",
       "3      0.0         0.0                 0 -211140.147246  \n",
       "4      0.0         0.0                 0 -211140.146826  "
      ]
     },
     "execution_count": 44,
     "metadata": {},
     "output_type": "execute_result"
    }
   ],
   "source": [
    "df.head()"
   ]
  },
  {
   "cell_type": "code",
   "execution_count": 45,
   "metadata": {},
   "outputs": [],
   "source": [
    "from mpl_toolkits.mplot3d import Axes3D"
   ]
  },
  {
   "cell_type": "code",
   "execution_count": 46,
   "metadata": {},
   "outputs": [
    {
     "data": {
      "image/png": "[encoded data removed]",
      "text/plain": [
       "<Figure size 432x288 with 1 Axes>"
      ]
     },
     "metadata": {
      "needs_background": "light"
     },
     "output_type": "display_data"
    }
   ],
   "source": [
    "fig = plt.figure()\n",
    "ax=fig.add_subplot(111,projection='3d')\n",
    "ax.scatter(df['Units_sold'],df['Revenue'],df['Commission'],c='r',marker='o')\n",
    "plt.show()"
   ]
  },
  {
   "cell_type": "code",
   "execution_count": 47,
   "metadata": {},
   "outputs": [],
   "source": [
    "ll = df[['Units_sold','Commission']]\n",
    "lp = df['Revenue']  "
   ]
  },
  {
   "cell_type": "code",
   "execution_count": 48,
   "metadata": {},
   "outputs": [],
   "source": [
    "from sklearn.model_selection import train_test_split  \n",
    "X_train, X_test, y_train, y_test = train_test_split(ll, lp, test_size = 0.20) "
   ]
  },
  {
   "cell_type": "code",
   "execution_count": 49,
   "metadata": {},
   "outputs": [
    {
     "data": {
      "text/plain": [
       "LinearRegression(copy_X=True, fit_intercept=True, n_jobs=None,\n",
       "         normalize=False)"
      ]
     },
     "execution_count": 49,
     "metadata": {},
     "output_type": "execute_result"
    }
   ],
   "source": [
    "from sklearn.linear_model import LinearRegression \n",
    "lr = LinearRegression()  \n",
    "lr.fit(X_train, y_train)  "
   ]
  },
  {
   "cell_type": "code",
   "execution_count": 50,
   "metadata": {},
   "outputs": [],
   "source": [
    "pred = lr.predict(X_test)"
   ]
  },
  {
   "cell_type": "code",
   "execution_count": 55,
   "metadata": {},
   "outputs": [
    {
     "data": {
      "text/plain": [
       "<matplotlib.collections.PathCollection at 0x2147e6c0b70>"
      ]
     },
     "execution_count": 55,
     "metadata": {},
     "output_type": "execute_result"
    },
    {
     "data": {
      "image/png": "[encoded data removed]",
      "text/plain": [
       "<Figure size 432x288 with 1 Axes>"
      ]
     },
     "metadata": {
      "needs_background": "light"
     },
     "output_type": "display_data"
    }
   ],
   "source": [
    "plt.scatter(pred,y_test)\n",
    "#Linear regression "
   ]
  },
  {
   "cell_type": "code",
   "execution_count": 4,
   "metadata": {},
   "outputs": [
    {
     "name": "stderr",
     "output_type": "stream",
     "text": [
      "C:\\ProgramData\\Anaconda3\\lib\\site-packages\\scipy\\stats\\stats.py:1713: FutureWarning: Using a non-tuple sequence for multidimensional indexing is deprecated; use `arr[tuple(seq)]` instead of `arr[seq]`. In the future this will be interpreted as an array index, `arr[np.array(seq)]`, which will result either in an error or a different result.\n",
      "  return np.add.reduce(sorted[indexer] * weights, axis=axis) / sumval\n"
     ]
    },
    {
     "data": {
      "text/plain": [
       "<matplotlib.axes._subplots.AxesSubplot at 0x1d0378f75f8>"
      ]
     },
     "execution_count": 4,
     "metadata": {},
     "output_type": "execute_result"
    },
    {
     "data": {
      "image/png": "[encoded data removed]",
      "text/plain": [
       "<Figure size 432x288 with 1 Axes>"
      ]
     },
     "metadata": {
      "needs_background": "light"
     },
     "output_type": "display_data"
    }
   ],
   "source": [
    "sns.barplot(x=df['MONTH'], y=df['Profit_percentage'])"
   ]
  },
  {
   "cell_type": "code",
   "execution_count": 5,
   "metadata": {},
   "outputs": [
    {
     "data": {
      "text/plain": [
       "<matplotlib.axes._subplots.AxesSubplot at 0x1d037b4c2b0>"
      ]
     },
     "execution_count": 5,
     "metadata": {},
     "output_type": "execute_result"
    },
    {
     "data": {
      "image/png": "[encoded data removed]",
      "text/plain": [
       "<Figure size 432x288 with 1 Axes>"
      ]
     },
     "metadata": {
      "needs_background": "light"
     },
     "output_type": "display_data"
    }
   ],
   "source": [
    "sns.barplot(x=df['Company'], y=df['Profit_percentage'])"
   ]
  },
  {
   "cell_type": "code",
   "execution_count": null,
   "metadata": {},
   "outputs": [],
   "source": []
  },
  {
   "cell_type": "code",
   "execution_count": null,
   "metadata": {},
   "outputs": [],
   "source": []
  }
 ],
 "metadata": {
  "kernelspec": {
   "display_name": "Python 3",
   "language": "python",
   "name": "python3"
  },
  "language_info": {
   "codemirror_mode": {
    "name": "ipython",
    "version": 3
   },
   "file_extension": ".py",
   "mimetype": "text/x-python",
   "name": "python",
   "nbconvert_exporter": "python",
   "pygments_lexer": "ipython3",
   "version": "3.7.1"
  }
 },
 "nbformat": 4,
 "nbformat_minor": 2
}
